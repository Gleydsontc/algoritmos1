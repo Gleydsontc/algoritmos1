{
 "cells": [
  {
   "cell_type": "code",
   "execution_count": 4,
   "metadata": {},
   "outputs": [
    {
     "name": "stdout",
     "output_type": "stream",
     "text": [
      "Olá Mundo!\n"
     ]
    }
   ],
   "source": [
    "print(\"Olá Mundo!\")"
   ]
  },
  {
   "cell_type": "code",
   "execution_count": 5,
   "metadata": {
    "collapsed": true
   },
   "outputs": [],
   "source": [
    "x = 2"
   ]
  },
  {
   "cell_type": "code",
   "execution_count": 6,
   "metadata": {
    "collapsed": true
   },
   "outputs": [],
   "source": [
    "y = 3.4"
   ]
  },
  {
   "cell_type": "code",
   "execution_count": 7,
   "metadata": {
    "collapsed": true
   },
   "outputs": [],
   "source": [
    "z = \"Lúcio\""
   ]
  },
  {
   "cell_type": "code",
   "execution_count": 8,
   "metadata": {},
   "outputs": [
    {
     "name": "stdout",
     "output_type": "stream",
     "text": [
      "O valor de x é 2\n"
     ]
    }
   ],
   "source": [
    "print(\"O valor de x é %d\" % x)"
   ]
  },
  {
   "cell_type": "code",
   "execution_count": 9,
   "metadata": {},
   "outputs": [
    {
     "name": "stdout",
     "output_type": "stream",
     "text": [
      "O valor de y é 3.400\n"
     ]
    }
   ],
   "source": [
    "print(\"O valor de y é %.3f\" % y)"
   ]
  },
  {
   "cell_type": "code",
   "execution_count": 10,
   "metadata": {},
   "outputs": [
    {
     "name": "stdout",
     "output_type": "stream",
     "text": [
      "Seu nome é: Lúcio\n"
     ]
    }
   ],
   "source": [
    "print(\"Seu nome é: \" + z)"
   ]
  },
  {
   "cell_type": "code",
   "execution_count": 11,
   "metadata": {
    "collapsed": true
   },
   "outputs": [],
   "source": [
    "w = x + y"
   ]
  },
  {
   "cell_type": "code",
   "execution_count": 12,
   "metadata": {},
   "outputs": [
    {
     "name": "stdout",
     "output_type": "stream",
     "text": [
      "5.4\n"
     ]
    }
   ],
   "source": [
    "print(w)"
   ]
  },
  {
   "cell_type": "code",
   "execution_count": 13,
   "metadata": {},
   "outputs": [
    {
     "data": {
      "text/plain": [
       "5"
      ]
     },
     "execution_count": 13,
     "metadata": {},
     "output_type": "execute_result"
    }
   ],
   "source": [
    "len(z)"
   ]
  },
  {
   "cell_type": "code",
   "execution_count": 14,
   "metadata": {},
   "outputs": [
    {
     "name": "stdout",
     "output_type": "stream",
     "text": [
      "Lúcio\n"
     ]
    }
   ],
   "source": [
    "print(z)"
   ]
  },
  {
   "cell_type": "code",
   "execution_count": 15,
   "metadata": {},
   "outputs": [
    {
     "name": "stdout",
     "output_type": "stream",
     "text": [
      "L\n"
     ]
    }
   ],
   "source": [
    "print(z[0])"
   ]
  },
  {
   "cell_type": "code",
   "execution_count": 16,
   "metadata": {},
   "outputs": [
    {
     "name": "stdout",
     "output_type": "stream",
     "text": [
      "Lú\n"
     ]
    }
   ],
   "source": [
    "print(z[:2])"
   ]
  },
  {
   "cell_type": "code",
   "execution_count": 17,
   "metadata": {},
   "outputs": [
    {
     "name": "stdout",
     "output_type": "stream",
     "text": [
      "Lúc\n"
     ]
    }
   ],
   "source": [
    "print(z[:-2])"
   ]
  },
  {
   "cell_type": "code",
   "execution_count": 18,
   "metadata": {},
   "outputs": [
    {
     "name": "stdout",
     "output_type": "stream",
     "text": [
      "ci\n"
     ]
    }
   ],
   "source": [
    "print(z[2:4])"
   ]
  },
  {
   "cell_type": "code",
   "execution_count": 19,
   "metadata": {},
   "outputs": [
    {
     "name": "stdout",
     "output_type": "stream",
     "text": [
      "io\n"
     ]
    }
   ],
   "source": [
    "print(z[-2:])"
   ]
  },
  {
   "cell_type": "code",
   "execution_count": 20,
   "metadata": {},
   "outputs": [
    {
     "name": "stdout",
     "output_type": "stream",
     "text": [
      "Nome:Lúcio\n"
     ]
    }
   ],
   "source": [
    "a = input(\"Nome:\")"
   ]
  },
  {
   "cell_type": "code",
   "execution_count": 21,
   "metadata": {},
   "outputs": [
    {
     "name": "stdout",
     "output_type": "stream",
     "text": [
      "Lúcio\n"
     ]
    }
   ],
   "source": [
    "print(a)"
   ]
  },
  {
   "cell_type": "code",
   "execution_count": 22,
   "metadata": {},
   "outputs": [
    {
     "name": "stdout",
     "output_type": "stream",
     "text": [
      "Digite um valor: 2\n"
     ]
    }
   ],
   "source": [
    "b = int(input(\"Digite um valor: \"))"
   ]
  },
  {
   "cell_type": "code",
   "execution_count": 23,
   "metadata": {},
   "outputs": [
    {
     "name": "stdout",
     "output_type": "stream",
     "text": [
      "2\n"
     ]
    }
   ],
   "source": [
    "print(b)"
   ]
  },
  {
   "cell_type": "code",
   "execution_count": 24,
   "metadata": {},
   "outputs": [
    {
     "name": "stdout",
     "output_type": "stream",
     "text": [
      "2.0\n"
     ]
    }
   ],
   "source": [
    "c = float(b)\n",
    "print(c)"
   ]
  },
  {
   "cell_type": "code",
   "execution_count": 25,
   "metadata": {},
   "outputs": [
    {
     "name": "stdout",
     "output_type": "stream",
     "text": [
      "2\n"
     ]
    }
   ],
   "source": [
    "d = str(b)\n",
    "print(d)"
   ]
  },
  {
   "cell_type": "code",
   "execution_count": 26,
   "metadata": {},
   "outputs": [
    {
     "name": "stdout",
     "output_type": "stream",
     "text": [
      "Lúcio\n"
     ]
    }
   ],
   "source": [
    "print(a)"
   ]
  },
  {
   "cell_type": "code",
   "execution_count": 27,
   "metadata": {},
   "outputs": [
    {
     "name": "stdout",
     "output_type": "stream",
     "text": [
      "2\n"
     ]
    }
   ],
   "source": [
    "print(x)"
   ]
  },
  {
   "cell_type": "code",
   "execution_count": 28,
   "metadata": {},
   "outputs": [
    {
     "name": "stdout",
     "output_type": "stream",
     "text": [
      "maior ou igual a 2\n"
     ]
    }
   ],
   "source": [
    "if x >= 2:\n",
    "    print(\"maior ou igual a 2\")"
   ]
  },
  {
   "cell_type": "code",
   "execution_count": 29,
   "metadata": {},
   "outputs": [
    {
     "name": "stdout",
     "output_type": "stream",
     "text": [
      "X é diferente de 3\n"
     ]
    }
   ],
   "source": [
    "if x == 3:\n",
    "    print(\"X é 3\")\n",
    "else:\n",
    "    print(\"X é diferente de 3\")"
   ]
  },
  {
   "cell_type": "code",
   "execution_count": 30,
   "metadata": {},
   "outputs": [
    {
     "name": "stdout",
     "output_type": "stream",
     "text": [
      "Você selecionou a opção 2\n"
     ]
    }
   ],
   "source": [
    "if x == 1:\n",
    "    print(\"Você selecionou a opção 1\")\n",
    "elif x == 2:\n",
    "    print(\"Você selecionou a opção 2\")\n",
    "else:\n",
    "    print(\"Você selecionou outro valor\")"
   ]
  },
  {
   "cell_type": "code",
   "execution_count": 31,
   "metadata": {},
   "outputs": [
    {
     "name": "stdout",
     "output_type": "stream",
     "text": [
      "1\n"
     ]
    }
   ],
   "source": [
    "x = 1\n",
    "print(x)"
   ]
  },
  {
   "cell_type": "code",
   "execution_count": 32,
   "metadata": {},
   "outputs": [
    {
     "name": "stdout",
     "output_type": "stream",
     "text": [
      "2\n"
     ]
    }
   ],
   "source": [
    "x = 2\n",
    "print(x)"
   ]
  },
  {
   "cell_type": "code",
   "execution_count": 33,
   "metadata": {},
   "outputs": [
    {
     "name": "stdout",
     "output_type": "stream",
     "text": [
      "3\n"
     ]
    }
   ],
   "source": [
    "x = 3\n",
    "print(x)"
   ]
  },
  {
   "cell_type": "code",
   "execution_count": 34,
   "metadata": {},
   "outputs": [
    {
     "name": "stdout",
     "output_type": "stream",
     "text": [
      "1\n",
      "2\n",
      "3\n"
     ]
    }
   ],
   "source": [
    "f = 1\n",
    "while f <= 3:\n",
    "    print(f)\n",
    "    f = f + 1"
   ]
  },
  {
   "cell_type": "code",
   "execution_count": 35,
   "metadata": {},
   "outputs": [
    {
     "name": "stdout",
     "output_type": "stream",
     "text": [
      "Digite um número para contar de 1 até ele:10\n",
      "1\n",
      "2\n",
      "3\n",
      "4\n",
      "5\n",
      "6\n",
      "7\n",
      "8\n",
      "9\n",
      "10\n"
     ]
    }
   ],
   "source": [
    "g = int(input(\"Digite um número para contar de 1 até ele:\"))\n",
    "i = 1\n",
    "while i <= g:\n",
    "    print(i)\n",
    "    i = i + 1"
   ]
  },
  {
   "cell_type": "code",
   "execution_count": 36,
   "metadata": {},
   "outputs": [
    {
     "name": "stdout",
     "output_type": "stream",
     "text": [
      "Digite um número para mostrar os pares de 0 até ele:10\n",
      "0\n",
      "2\n",
      "4\n",
      "6\n",
      "8\n",
      "10\n"
     ]
    }
   ],
   "source": [
    "g = int(input(\"Digite um número para mostrar os pares de 0 até ele:\"))\n",
    "i = 0\n",
    "while i <= g:\n",
    "    if i % 2 == 0:\n",
    "        print(i)\n",
    "    i = i + 1"
   ]
  },
  {
   "cell_type": "code",
   "execution_count": 37,
   "metadata": {},
   "outputs": [
    {
     "name": "stdout",
     "output_type": "stream",
     "text": [
      "Digite um número para mostrar os ímpares de 0 até ele:10\n",
      "1\n",
      "3\n",
      "5\n",
      "7\n",
      "9\n"
     ]
    }
   ],
   "source": [
    "g = int(input(\"Digite um número para mostrar os ímpares de 0 até ele:\"))\n",
    "i = 0\n",
    "while i <= g:\n",
    "    if i % 2 != 0:\n",
    "        print(i)\n",
    "    i = i + 1"
   ]
  },
  {
   "cell_type": "code",
   "execution_count": 38,
   "metadata": {},
   "outputs": [
    {
     "name": "stdout",
     "output_type": "stream",
     "text": [
      "----------------------------------------\n",
      "Digite 1 para doar 1 real.\n",
      "\n",
      "Digite 2 para doar 2 reais.\n",
      "\n",
      "Digite 3 para sair desse trem!\n",
      "\n",
      "Qual a sua opção lombardi? 1\n",
      "Você escolheu 1\n",
      "Pô, doe mais!\n",
      "Estamos voltando ao menu. Aguarde\n",
      "----------------------------------------\n",
      "Digite 1 para doar 1 real.\n",
      "\n",
      "Digite 2 para doar 2 reais.\n",
      "\n",
      "Digite 3 para sair desse trem!\n",
      "\n",
      "Qual a sua opção lombardi? 2\n",
      "Você escolheu 2\n",
      "Estamos voltando ao menu. Aguarde\n",
      "----------------------------------------\n",
      "Digite 1 para doar 1 real.\n",
      "\n",
      "Digite 2 para doar 2 reais.\n",
      "\n",
      "Digite 3 para sair desse trem!\n",
      "\n",
      "Qual a sua opção lombardi? 3\n",
      "Você escolheu 3\n",
      "Estamos voltando ao menu. Aguarde\n",
      "Ufa, tchau!\n"
     ]
    }
   ],
   "source": [
    "opcao = 0\n",
    "while opcao != 3:\n",
    "    print(\"-\"*40)\n",
    "    print(\"Digite 1 para doar 1 real.\\n\")\n",
    "    print(\"Digite 2 para doar 2 reais.\\n\")\n",
    "    print(\"Digite 3 para sair desse trem!\\n\")\n",
    "    opcao = int(input(\"Qual a sua opção lombardi? \"))\n",
    "    print(\"Você escolheu %d\" % opcao)\n",
    "    if opcao == 1:\n",
    "        print(\"Pô, doe mais!\")\n",
    "    if opcao == 99:\n",
    "        print(\"Você descobriu o EasterEgg! Quebrou tudo!\")\n",
    "        break\n",
    "    print(\"Estamos voltando ao menu. Aguarde\")\n",
    "print(\"Ufa, tchau!\")\n"
   ]
  },
  {
   "cell_type": "code",
   "execution_count": 39,
   "metadata": {},
   "outputs": [
    {
     "name": "stdout",
     "output_type": "stream",
     "text": [
      "Informe quantos valores você quer fazer média: 3\n",
      "Informe o valor: 3\n",
      "Informe o valor: 4\n",
      "Informe o valor: 5\n",
      "Soma: 12\n",
      "Média: 4.00\n"
     ]
    }
   ],
   "source": [
    "a = int(input(\"Informe quantos valores você quer fazer média: \"))\n",
    "i = 0\n",
    "soma = 0\n",
    "while i < a:\n",
    "    n = int(input(\"Informe o valor: \"))\n",
    "    soma = soma +  n\n",
    "    i = i + 1\n",
    "print(\"Soma: %d\" % soma)\n",
    "media = soma/a\n",
    "print(\"Média: %.2f\" % media)\n"
   ]
  },
  {
   "cell_type": "code",
   "execution_count": null,
   "metadata": {
    "collapsed": true
   },
   "outputs": [],
   "source": []
  }
 ],
 "metadata": {
  "kernelspec": {
   "display_name": "Python 3",
   "language": "python",
   "name": "python3"
  },
  "language_info": {
   "codemirror_mode": {
    "name": "ipython",
    "version": 3
   },
   "file_extension": ".py",
   "mimetype": "text/x-python",
   "name": "python",
   "nbconvert_exporter": "python",
   "pygments_lexer": "ipython3",
   "version": "3.4.3"
  }
 },
 "nbformat": 4,
 "nbformat_minor": 2
}
